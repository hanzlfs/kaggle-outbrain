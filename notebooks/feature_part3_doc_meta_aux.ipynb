{
 "cells": [
  {
   "cell_type": "code",
   "execution_count": 1,
   "metadata": {
    "collapsed": true
   },
   "outputs": [],
   "source": [
    "import pandas as pd\n",
    "import numpy as np"
   ]
  },
  {
   "cell_type": "code",
   "execution_count": 37,
   "metadata": {
    "collapsed": true
   },
   "outputs": [],
   "source": [
    "from datetime import datetime\n",
    "def convert_ts(timestamp_ms_relative):\n",
    "    TIMESTAMP_DELTA=1465876799998\n",
    "    return datetime.fromtimestamp((int(timestamp_ms_relative)+TIMESTAMP_DELTA)//1000)"
   ]
  },
  {
   "cell_type": "code",
   "execution_count": 7,
   "metadata": {
    "collapsed": false
   },
   "outputs": [],
   "source": [
    "f1_train = pd.read_csv(\"../interm/f1_train.csv.gz\", index_col=False)\n",
    "selected_promo = pd.read_csv(\"../interm/selected_promo_content.csv.gz\", index_col=False)"
   ]
  },
  {
   "cell_type": "code",
   "execution_count": 9,
   "metadata": {
    "collapsed": false
   },
   "outputs": [],
   "source": [
    "f2_train = f1_train.merge(selected_promo, how = 'left', on = 'ad_id')"
   ]
  },
  {
   "cell_type": "code",
   "execution_count": 10,
   "metadata": {
    "collapsed": false
   },
   "outputs": [],
   "source": [
    "f2_train.to_csv(\"../interm/f2_train.csv.gz\",index=False, compression=\"gzip\")"
   ]
  },
  {
   "cell_type": "code",
   "execution_count": 15,
   "metadata": {
    "collapsed": false
   },
   "outputs": [
    {
     "data": {
      "text/plain": [
       "2999334"
      ]
     },
     "execution_count": 15,
     "metadata": {},
     "output_type": "execute_result"
    }
   ],
   "source": [
    "len(meta['document_id'].unique())"
   ]
  },
  {
   "cell_type": "code",
   "execution_count": 12,
   "metadata": {
    "collapsed": true
   },
   "outputs": [],
   "source": [
    "meta = pd.read_csv(\"../data/documents_meta.csv.gz\", index_col=False)"
   ]
  },
  {
   "cell_type": "code",
   "execution_count": 17,
   "metadata": {
    "collapsed": false
   },
   "outputs": [],
   "source": [
    "f3_train = f2_train.merge(meta, how = 'left', left_on = \"ad_prom:document_id\", \n",
    "                          right_on=\"document_id\")"
   ]
  },
  {
   "cell_type": "code",
   "execution_count": 20,
   "metadata": {
    "collapsed": false
   },
   "outputs": [],
   "source": [
    "f3_train[\"publisher_id\"].fillna(-99, inplace = True)"
   ]
  },
  {
   "cell_type": "code",
   "execution_count": 22,
   "metadata": {
    "collapsed": false
   },
   "outputs": [],
   "source": [
    "f3_train.drop(\"document_id\", axis=1, inplace=True)"
   ]
  },
  {
   "cell_type": "code",
   "execution_count": 24,
   "metadata": {
    "collapsed": false
   },
   "outputs": [],
   "source": [
    "f3_train.rename(columns = {\"source_id\"   : \"ad_prom:document_id:source_id\",\n",
    "                           \"publisher_id\": \"ad_prom:document_id:publisher_id\",\n",
    "                           \"publish_time\": \"ad_prom:document_id:publish_time\"}, \n",
    "                inplace = True)"
   ]
  },
  {
   "cell_type": "code",
   "execution_count": 30,
   "metadata": {
    "collapsed": false
   },
   "outputs": [],
   "source": [
    "f3_train.to_csv(\"../interm/f3_train.csv.gz\",index=False, compression=\"gzip\")"
   ]
  },
  {
   "cell_type": "code",
   "execution_count": 31,
   "metadata": {
    "collapsed": true
   },
   "outputs": [],
   "source": [
    "f4_train = f3_train.merge(meta, how= \"left\", left_on = \"events:document_id\", \n",
    "                          right_on = \"document_id\")\n",
    "f4_train[\"publisher_id\"].fillna(-99, inplace = True)\n",
    "f4_train.drop(\"document_id\", axis=1, inplace=True)"
   ]
  },
  {
   "cell_type": "code",
   "execution_count": 33,
   "metadata": {
    "collapsed": false
   },
   "outputs": [],
   "source": [
    "f4_train.rename(columns = {\"source_id\"   : \"events:document_id:source_id\",\n",
    "                           \"publisher_id\": \"events:document_id:publisher_id\",\n",
    "                           \"publish_time\": \"events:document_id:publish_time\"}, \n",
    "                inplace = True)"
   ]
  },
  {
   "cell_type": "code",
   "execution_count": 40,
   "metadata": {
    "collapsed": false
   },
   "outputs": [
    {
     "data": {
      "text/html": [
       "<div>\n",
       "<table border=\"1\" class=\"dataframe\">\n",
       "  <thead>\n",
       "    <tr style=\"text-align: right;\">\n",
       "      <th></th>\n",
       "      <th>display_id</th>\n",
       "      <th>ad_id</th>\n",
       "      <th>clicked</th>\n",
       "      <th>uuid</th>\n",
       "      <th>events:document_id</th>\n",
       "      <th>events:timestamp</th>\n",
       "      <th>events:platform</th>\n",
       "      <th>events:geo_location</th>\n",
       "      <th>ad_prom:document_id</th>\n",
       "      <th>ad_prom:campaign_id</th>\n",
       "      <th>ad_prom:advertiser_id</th>\n",
       "      <th>ad_prom:document_id:source_id</th>\n",
       "      <th>ad_prom:document_id:publisher_id</th>\n",
       "      <th>ad_prom:document_id:publish_time</th>\n",
       "      <th>events:document_id:source_id</th>\n",
       "      <th>events:document_id:publisher_id</th>\n",
       "      <th>events:document_id:publish_time</th>\n",
       "    </tr>\n",
       "  </thead>\n",
       "  <tbody>\n",
       "    <tr>\n",
       "      <th>0</th>\n",
       "      <td>1</td>\n",
       "      <td>42337</td>\n",
       "      <td>0</td>\n",
       "      <td>cb8c55702adb93</td>\n",
       "      <td>379743</td>\n",
       "      <td>2016-06-14 04:00:00</td>\n",
       "      <td>3</td>\n",
       "      <td>US&gt;SC&gt;519</td>\n",
       "      <td>938164</td>\n",
       "      <td>5969</td>\n",
       "      <td>1499</td>\n",
       "      <td>5802.0</td>\n",
       "      <td>-99.0</td>\n",
       "      <td>2016-07-27 00:00:00</td>\n",
       "      <td>6482.0</td>\n",
       "      <td>24.0</td>\n",
       "      <td>NaN</td>\n",
       "    </tr>\n",
       "    <tr>\n",
       "      <th>1</th>\n",
       "      <td>1</td>\n",
       "      <td>139684</td>\n",
       "      <td>0</td>\n",
       "      <td>cb8c55702adb93</td>\n",
       "      <td>379743</td>\n",
       "      <td>2016-06-14 04:00:00</td>\n",
       "      <td>3</td>\n",
       "      <td>US&gt;SC&gt;519</td>\n",
       "      <td>1085937</td>\n",
       "      <td>17527</td>\n",
       "      <td>2563</td>\n",
       "      <td>10727.0</td>\n",
       "      <td>-99.0</td>\n",
       "      <td>2016-02-09 15:00:00</td>\n",
       "      <td>6482.0</td>\n",
       "      <td>24.0</td>\n",
       "      <td>NaN</td>\n",
       "    </tr>\n",
       "    <tr>\n",
       "      <th>2</th>\n",
       "      <td>1</td>\n",
       "      <td>144739</td>\n",
       "      <td>1</td>\n",
       "      <td>cb8c55702adb93</td>\n",
       "      <td>379743</td>\n",
       "      <td>2016-06-14 04:00:00</td>\n",
       "      <td>3</td>\n",
       "      <td>US&gt;SC&gt;519</td>\n",
       "      <td>1337362</td>\n",
       "      <td>18488</td>\n",
       "      <td>2909</td>\n",
       "      <td>11328.0</td>\n",
       "      <td>-99.0</td>\n",
       "      <td>2016-04-24 08:00:00</td>\n",
       "      <td>6482.0</td>\n",
       "      <td>24.0</td>\n",
       "      <td>NaN</td>\n",
       "    </tr>\n",
       "    <tr>\n",
       "      <th>3</th>\n",
       "      <td>1</td>\n",
       "      <td>156824</td>\n",
       "      <td>0</td>\n",
       "      <td>cb8c55702adb93</td>\n",
       "      <td>379743</td>\n",
       "      <td>2016-06-14 04:00:00</td>\n",
       "      <td>3</td>\n",
       "      <td>US&gt;SC&gt;519</td>\n",
       "      <td>992370</td>\n",
       "      <td>7283</td>\n",
       "      <td>1919</td>\n",
       "      <td>8064.0</td>\n",
       "      <td>-99.0</td>\n",
       "      <td>2015-07-24 00:00:00</td>\n",
       "      <td>6482.0</td>\n",
       "      <td>24.0</td>\n",
       "      <td>NaN</td>\n",
       "    </tr>\n",
       "    <tr>\n",
       "      <th>4</th>\n",
       "      <td>1</td>\n",
       "      <td>279295</td>\n",
       "      <td>0</td>\n",
       "      <td>cb8c55702adb93</td>\n",
       "      <td>379743</td>\n",
       "      <td>2016-06-14 04:00:00</td>\n",
       "      <td>3</td>\n",
       "      <td>US&gt;SC&gt;519</td>\n",
       "      <td>1670176</td>\n",
       "      <td>27524</td>\n",
       "      <td>1820</td>\n",
       "      <td>8239.0</td>\n",
       "      <td>-99.0</td>\n",
       "      <td>2016-06-02 03:00:00</td>\n",
       "      <td>6482.0</td>\n",
       "      <td>24.0</td>\n",
       "      <td>NaN</td>\n",
       "    </tr>\n",
       "  </tbody>\n",
       "</table>\n",
       "</div>"
      ],
      "text/plain": [
       "   display_id   ad_id  clicked            uuid  events:document_id  \\\n",
       "0           1   42337        0  cb8c55702adb93              379743   \n",
       "1           1  139684        0  cb8c55702adb93              379743   \n",
       "2           1  144739        1  cb8c55702adb93              379743   \n",
       "3           1  156824        0  cb8c55702adb93              379743   \n",
       "4           1  279295        0  cb8c55702adb93              379743   \n",
       "\n",
       "     events:timestamp  events:platform events:geo_location  \\\n",
       "0 2016-06-14 04:00:00                3           US>SC>519   \n",
       "1 2016-06-14 04:00:00                3           US>SC>519   \n",
       "2 2016-06-14 04:00:00                3           US>SC>519   \n",
       "3 2016-06-14 04:00:00                3           US>SC>519   \n",
       "4 2016-06-14 04:00:00                3           US>SC>519   \n",
       "\n",
       "   ad_prom:document_id  ad_prom:campaign_id  ad_prom:advertiser_id  \\\n",
       "0               938164                 5969                   1499   \n",
       "1              1085937                17527                   2563   \n",
       "2              1337362                18488                   2909   \n",
       "3               992370                 7283                   1919   \n",
       "4              1670176                27524                   1820   \n",
       "\n",
       "   ad_prom:document_id:source_id  ad_prom:document_id:publisher_id  \\\n",
       "0                         5802.0                             -99.0   \n",
       "1                        10727.0                             -99.0   \n",
       "2                        11328.0                             -99.0   \n",
       "3                         8064.0                             -99.0   \n",
       "4                         8239.0                             -99.0   \n",
       "\n",
       "  ad_prom:document_id:publish_time  events:document_id:source_id  \\\n",
       "0              2016-07-27 00:00:00                        6482.0   \n",
       "1              2016-02-09 15:00:00                        6482.0   \n",
       "2              2016-04-24 08:00:00                        6482.0   \n",
       "3              2015-07-24 00:00:00                        6482.0   \n",
       "4              2016-06-02 03:00:00                        6482.0   \n",
       "\n",
       "   events:document_id:publisher_id events:document_id:publish_time  \n",
       "0                             24.0                             NaN  \n",
       "1                             24.0                             NaN  \n",
       "2                             24.0                             NaN  \n",
       "3                             24.0                             NaN  \n",
       "4                             24.0                             NaN  "
      ]
     },
     "execution_count": 40,
     "metadata": {},
     "output_type": "execute_result"
    }
   ],
   "source": [
    "f4_train.head()"
   ]
  },
  {
   "cell_type": "code",
   "execution_count": 39,
   "metadata": {
    "collapsed": false
   },
   "outputs": [],
   "source": [
    "f4_train[\"events:timestamp\"] = f4_train[\"events:timestamp\"].apply(convert_ts)"
   ]
  },
  {
   "cell_type": "code",
   "execution_count": 69,
   "metadata": {
    "collapsed": false
   },
   "outputs": [],
   "source": [
    "doc_aux = pd.read_csv(\"../interm/doc_aux_topI_topic_entity_categ_train.csv.gz\", index_col=False)"
   ]
  },
  {
   "cell_type": "code",
   "execution_count": 71,
   "metadata": {
    "collapsed": false
   },
   "outputs": [],
   "source": [
    "doc_aux[\"topic_topI\"] = doc_aux[\"topic_topI\"].map(int)\n",
    "doc_aux[\"categ_topI\"] = doc_aux[\"categ_topI\"].map(int)"
   ]
  },
  {
   "cell_type": "code",
   "execution_count": 73,
   "metadata": {
    "collapsed": false
   },
   "outputs": [],
   "source": [
    "f4_train = f4_train.merge(doc_aux, how= \"left\", left_on = \"events:document_id\", \n",
    "                          right_on = \"document_id\")\n",
    "\n",
    "f4_train.drop(\"document_id\", axis=1, inplace=True)\n",
    "f4_train.rename(columns = {\"topic_topI\"   : \"events:document_id:topic_topI\",\n",
    "                           \"entity_topI\": \"events:document_id:entity_topI\",\n",
    "                           \"categ_topI\": \"events:document_id:categ_topI\"}, \n",
    "                inplace = True)"
   ]
  },
  {
   "cell_type": "code",
   "execution_count": 76,
   "metadata": {
    "collapsed": true
   },
   "outputs": [],
   "source": [
    "f4_train = f4_train.merge(doc_aux, how= \"left\", left_on = \"ad_prom:document_id\", \n",
    "                          right_on = \"document_id\")\n",
    "\n",
    "f4_train.drop(\"document_id\", axis=1, inplace=True)\n",
    "f4_train.rename(columns = {\"topic_topI\"   : \"ad_prom:document_id:topic_topI\",\n",
    "                           \"entity_topI\": \"ad_prom:document_id:entity_topI\",\n",
    "                           \"categ_topI\": \"ad_prom:document_id:categ_topI\"}, \n",
    "                inplace = True)"
   ]
  },
  {
   "cell_type": "code",
   "execution_count": 79,
   "metadata": {
    "collapsed": true
   },
   "outputs": [],
   "source": [
    "f4_train.to_csv(\"../interm/f4_train.csv.gz\",index=False, compression=\"gzip\")"
   ]
  },
  {
   "cell_type": "code",
   "execution_count": null,
   "metadata": {
    "collapsed": true
   },
   "outputs": [],
   "source": []
  }
 ],
 "metadata": {
  "kernelspec": {
   "display_name": "Python 2",
   "language": "python",
   "name": "python2"
  },
  "language_info": {
   "codemirror_mode": {
    "name": "ipython",
    "version": 2
   },
   "file_extension": ".py",
   "mimetype": "text/x-python",
   "name": "python",
   "nbconvert_exporter": "python",
   "pygments_lexer": "ipython2",
   "version": "2.7.12"
  }
 },
 "nbformat": 4,
 "nbformat_minor": 0
}
