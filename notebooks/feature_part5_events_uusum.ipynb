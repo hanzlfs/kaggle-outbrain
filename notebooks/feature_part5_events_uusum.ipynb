{
 "cells": [
  {
   "cell_type": "markdown",
   "metadata": {},
   "source": [
    "##### Join generated page-view uusum features into users in events ######\n",
    "- 1. Select unique uuid from events \n",
    "- 2. Partition and join seperately 00 - 99 \n",
    "- 3. Append together to be unique events uuid - features\n",
    "- 4. Join onto events -> join onto train/test by display_id "
   ]
  },
  {
   "cell_type": "code",
   "execution_count": 15,
   "metadata": {
    "collapsed": true
   },
   "outputs": [],
   "source": [
    "###### Import modules \n",
    "import pandas as pd\n",
    "import numpy as np\n",
    "import time, gc, logging, argparse"
   ]
  },
  {
   "cell_type": "code",
   "execution_count": 4,
   "metadata": {
    "collapsed": false
   },
   "outputs": [
    {
     "name": "stderr",
     "output_type": "stream",
     "text": [
      "/home/ubuntu/anaconda/lib/python2.7/site-packages/IPython/core/interactiveshell.py:2902: DtypeWarning: Columns (4) have mixed types. Specify dtype option on import or set low_memory=False.\n",
      "  interactivity=interactivity, compiler=compiler, result=result)\n"
     ]
    }
   ],
   "source": [
    "###### Read events data \n",
    "events = pd.read_csv(\"../data/events.csv.gz\", header = 0)"
   ]
  },
  {
   "cell_type": "code",
   "execution_count": 5,
   "metadata": {
    "collapsed": false
   },
   "outputs": [
    {
     "data": {
      "text/html": [
       "<div>\n",
       "<table border=\"1\" class=\"dataframe\">\n",
       "  <thead>\n",
       "    <tr style=\"text-align: right;\">\n",
       "      <th></th>\n",
       "      <th>display_id</th>\n",
       "      <th>uuid</th>\n",
       "      <th>document_id</th>\n",
       "      <th>timestamp</th>\n",
       "      <th>platform</th>\n",
       "      <th>geo_location</th>\n",
       "    </tr>\n",
       "  </thead>\n",
       "  <tbody>\n",
       "    <tr>\n",
       "      <th>0</th>\n",
       "      <td>1</td>\n",
       "      <td>cb8c55702adb93</td>\n",
       "      <td>379743</td>\n",
       "      <td>61</td>\n",
       "      <td>3</td>\n",
       "      <td>US&gt;SC&gt;519</td>\n",
       "    </tr>\n",
       "    <tr>\n",
       "      <th>1</th>\n",
       "      <td>2</td>\n",
       "      <td>79a85fa78311b9</td>\n",
       "      <td>1794259</td>\n",
       "      <td>81</td>\n",
       "      <td>2</td>\n",
       "      <td>US&gt;CA&gt;807</td>\n",
       "    </tr>\n",
       "    <tr>\n",
       "      <th>2</th>\n",
       "      <td>3</td>\n",
       "      <td>822932ce3d8757</td>\n",
       "      <td>1179111</td>\n",
       "      <td>182</td>\n",
       "      <td>2</td>\n",
       "      <td>US&gt;MI&gt;505</td>\n",
       "    </tr>\n",
       "    <tr>\n",
       "      <th>3</th>\n",
       "      <td>4</td>\n",
       "      <td>85281d0a49f7ac</td>\n",
       "      <td>1777797</td>\n",
       "      <td>234</td>\n",
       "      <td>2</td>\n",
       "      <td>US&gt;WV&gt;564</td>\n",
       "    </tr>\n",
       "    <tr>\n",
       "      <th>4</th>\n",
       "      <td>5</td>\n",
       "      <td>8d0daef4bf5b56</td>\n",
       "      <td>252458</td>\n",
       "      <td>338</td>\n",
       "      <td>2</td>\n",
       "      <td>SG&gt;00</td>\n",
       "    </tr>\n",
       "  </tbody>\n",
       "</table>\n",
       "</div>"
      ],
      "text/plain": [
       "   display_id            uuid  document_id  timestamp platform geo_location\n",
       "0           1  cb8c55702adb93       379743         61        3    US>SC>519\n",
       "1           2  79a85fa78311b9      1794259         81        2    US>CA>807\n",
       "2           3  822932ce3d8757      1179111        182        2    US>MI>505\n",
       "3           4  85281d0a49f7ac      1777797        234        2    US>WV>564\n",
       "4           5  8d0daef4bf5b56       252458        338        2        SG>00"
      ]
     },
     "execution_count": 5,
     "metadata": {},
     "output_type": "execute_result"
    }
   ],
   "source": [
    "#### Check events\n",
    "events.head()"
   ]
  },
  {
   "cell_type": "code",
   "execution_count": 6,
   "metadata": {
    "collapsed": false
   },
   "outputs": [
    {
     "data": {
      "text/html": [
       "<div>\n",
       "<table border=\"1\" class=\"dataframe\">\n",
       "  <thead>\n",
       "    <tr style=\"text-align: right;\">\n",
       "      <th></th>\n",
       "      <th>display_id</th>\n",
       "      <th>uuid</th>\n",
       "      <th>document_id</th>\n",
       "      <th>timestamp</th>\n",
       "      <th>platform</th>\n",
       "      <th>geo_location</th>\n",
       "      <th>uuid_hash_code</th>\n",
       "    </tr>\n",
       "  </thead>\n",
       "  <tbody>\n",
       "    <tr>\n",
       "      <th>0</th>\n",
       "      <td>1</td>\n",
       "      <td>cb8c55702adb93</td>\n",
       "      <td>379743</td>\n",
       "      <td>61</td>\n",
       "      <td>3</td>\n",
       "      <td>US&gt;SC&gt;519</td>\n",
       "      <td>80</td>\n",
       "    </tr>\n",
       "    <tr>\n",
       "      <th>1</th>\n",
       "      <td>2</td>\n",
       "      <td>79a85fa78311b9</td>\n",
       "      <td>1794259</td>\n",
       "      <td>81</td>\n",
       "      <td>2</td>\n",
       "      <td>US&gt;CA&gt;807</td>\n",
       "      <td>2</td>\n",
       "    </tr>\n",
       "    <tr>\n",
       "      <th>2</th>\n",
       "      <td>3</td>\n",
       "      <td>822932ce3d8757</td>\n",
       "      <td>1179111</td>\n",
       "      <td>182</td>\n",
       "      <td>2</td>\n",
       "      <td>US&gt;MI&gt;505</td>\n",
       "      <td>14</td>\n",
       "    </tr>\n",
       "    <tr>\n",
       "      <th>3</th>\n",
       "      <td>4</td>\n",
       "      <td>85281d0a49f7ac</td>\n",
       "      <td>1777797</td>\n",
       "      <td>234</td>\n",
       "      <td>2</td>\n",
       "      <td>US&gt;WV&gt;564</td>\n",
       "      <td>59</td>\n",
       "    </tr>\n",
       "    <tr>\n",
       "      <th>4</th>\n",
       "      <td>5</td>\n",
       "      <td>8d0daef4bf5b56</td>\n",
       "      <td>252458</td>\n",
       "      <td>338</td>\n",
       "      <td>2</td>\n",
       "      <td>SG&gt;00</td>\n",
       "      <td>90</td>\n",
       "    </tr>\n",
       "  </tbody>\n",
       "</table>\n",
       "</div>"
      ],
      "text/plain": [
       "   display_id            uuid  document_id  timestamp platform geo_location  \\\n",
       "0           1  cb8c55702adb93       379743         61        3    US>SC>519   \n",
       "1           2  79a85fa78311b9      1794259         81        2    US>CA>807   \n",
       "2           3  822932ce3d8757      1179111        182        2    US>MI>505   \n",
       "3           4  85281d0a49f7ac      1777797        234        2    US>WV>564   \n",
       "4           5  8d0daef4bf5b56       252458        338        2        SG>00   \n",
       "\n",
       "   uuid_hash_code  \n",
       "0              80  \n",
       "1               2  \n",
       "2              14  \n",
       "3              59  \n",
       "4              90  "
      ]
     },
     "execution_count": 6,
     "metadata": {},
     "output_type": "execute_result"
    }
   ],
   "source": [
    "#### Hash uuid \n",
    "hash_length = 100\n",
    "def get_hash_code(x):\n",
    "    y = abs(hash(x)%hash_length)\n",
    "    return int(y)\n",
    "\n",
    "events.loc[:,\"uuid_hash_code\"] = events[\"uuid\"].apply(get_hash_code)\n",
    "events.head()"
   ]
  },
  {
   "cell_type": "code",
   "execution_count": 8,
   "metadata": {
    "collapsed": false
   },
   "outputs": [
    {
     "name": "stderr",
     "output_type": "stream",
     "text": [
      "/home/ubuntu/anaconda/lib/python2.7/site-packages/ipykernel/__main__.py:3: FutureWarning: sort(columns=....) is deprecated, use sort_values(by=.....)\n",
      "  app.launch_new_instance()\n"
     ]
    },
    {
     "data": {
      "text/html": [
       "<div>\n",
       "<table border=\"1\" class=\"dataframe\">\n",
       "  <thead>\n",
       "    <tr style=\"text-align: right;\">\n",
       "      <th></th>\n",
       "      <th>uuid</th>\n",
       "      <th>uuid_hash_code</th>\n",
       "    </tr>\n",
       "  </thead>\n",
       "  <tbody>\n",
       "    <tr>\n",
       "      <th>3712739</th>\n",
       "      <td>1000003a6ad6e3</td>\n",
       "      <td>36</td>\n",
       "    </tr>\n",
       "    <tr>\n",
       "      <th>22230845</th>\n",
       "      <td>10000119e80a30</td>\n",
       "      <td>45</td>\n",
       "    </tr>\n",
       "    <tr>\n",
       "      <th>4809328</th>\n",
       "      <td>100004a10b7a20</td>\n",
       "      <td>75</td>\n",
       "    </tr>\n",
       "    <tr>\n",
       "      <th>7062300</th>\n",
       "      <td>100004d27b9647</td>\n",
       "      <td>6</td>\n",
       "    </tr>\n",
       "    <tr>\n",
       "      <th>6976594</th>\n",
       "      <td>100005b20f8362</td>\n",
       "      <td>53</td>\n",
       "    </tr>\n",
       "  </tbody>\n",
       "</table>\n",
       "</div>"
      ],
      "text/plain": [
       "                    uuid  uuid_hash_code\n",
       "3712739   1000003a6ad6e3              36\n",
       "22230845  10000119e80a30              45\n",
       "4809328   100004a10b7a20              75\n",
       "7062300   100004d27b9647               6\n",
       "6976594   100005b20f8362              53"
      ]
     },
     "execution_count": 8,
     "metadata": {},
     "output_type": "execute_result"
    }
   ],
   "source": [
    "###### Only keep unique users \n",
    "events_uu = events.loc[:,['uuid','uuid_hash_code']].drop_duplicates()\n",
    "events_uu.sort(['uuid']).head()"
   ]
  },
  {
   "cell_type": "code",
   "execution_count": 9,
   "metadata": {
    "collapsed": false
   },
   "outputs": [
    {
     "name": "stdout",
     "output_type": "stream",
     "text": [
      "(23120126, 7)\n",
      "(19794967, 2)\n"
     ]
    }
   ],
   "source": [
    "print events.shape\n",
    "print events_uu.shape"
   ]
  },
  {
   "cell_type": "code",
   "execution_count": 20,
   "metadata": {
    "collapsed": false
   },
   "outputs": [
    {
     "data": {
      "text/html": [
       "<div>\n",
       "<table border=\"1\" class=\"dataframe\">\n",
       "  <thead>\n",
       "    <tr style=\"text-align: right;\">\n",
       "      <th></th>\n",
       "      <th>uuid</th>\n",
       "      <th>num_visits</th>\n",
       "      <th>platform-freq</th>\n",
       "      <th>geo_location-freq</th>\n",
       "      <th>traffic_source-freq</th>\n",
       "      <th>source_id-freq</th>\n",
       "      <th>publisher_id-freq</th>\n",
       "      <th>topic_topI-freq</th>\n",
       "      <th>categ_topI-freq</th>\n",
       "      <th>entity_topI-freq</th>\n",
       "    </tr>\n",
       "  </thead>\n",
       "  <tbody>\n",
       "    <tr>\n",
       "      <th>0</th>\n",
       "      <td>100001174c8854</td>\n",
       "      <td>3</td>\n",
       "      <td>1:3</td>\n",
       "      <td>US&gt;CA&gt;803:3</td>\n",
       "      <td>1:3</td>\n",
       "      <td>5315:1|574:1|694:1</td>\n",
       "      <td>1046:1|1161:2</td>\n",
       "      <td>147:1|183:1|265:1</td>\n",
       "      <td>1408:1|1902:1|1909:1</td>\n",
       "      <td>-99:1|3e2329d0532b88665cdd7c9625786738:1|543a1...</td>\n",
       "    </tr>\n",
       "    <tr>\n",
       "      <th>1</th>\n",
       "      <td>1000018be5d703</td>\n",
       "      <td>1</td>\n",
       "      <td>2:1</td>\n",
       "      <td>US&gt;FL&gt;528:1</td>\n",
       "      <td>1:1</td>\n",
       "      <td>663:1</td>\n",
       "      <td>61:1</td>\n",
       "      <td>216:1</td>\n",
       "      <td>1702:1</td>\n",
       "      <td>9ebd449f947b6a9358f11aa77f3ce0d2:1</td>\n",
       "    </tr>\n",
       "    <tr>\n",
       "      <th>2</th>\n",
       "      <td>10000380c5ae26</td>\n",
       "      <td>3</td>\n",
       "      <td>2:3</td>\n",
       "      <td>US&gt;CA&gt;803:2|US&gt;CA&gt;825:1</td>\n",
       "      <td>1:3</td>\n",
       "      <td>1893:1|465:1|752:1</td>\n",
       "      <td>160:2|43:1</td>\n",
       "      <td>184:1|51:1|77:1</td>\n",
       "      <td>1702:1|1902:1|1908:1</td>\n",
       "      <td>-99:1|9e6e6bfa404b26cfb3012bd457fbdb68:1|f53e4...</td>\n",
       "    </tr>\n",
       "    <tr>\n",
       "      <th>3</th>\n",
       "      <td>10000489b154a3</td>\n",
       "      <td>1</td>\n",
       "      <td>1:1</td>\n",
       "      <td>US&gt;MI&gt;563:1</td>\n",
       "      <td>1:1</td>\n",
       "      <td>7344:1</td>\n",
       "      <td>874:1</td>\n",
       "      <td>45:1</td>\n",
       "      <td>1903:1</td>\n",
       "      <td>-99:1</td>\n",
       "    </tr>\n",
       "    <tr>\n",
       "      <th>4</th>\n",
       "      <td>100007fce4ea8f</td>\n",
       "      <td>1</td>\n",
       "      <td>1:1</td>\n",
       "      <td>US&gt;MA&gt;506:1</td>\n",
       "      <td>1:1</td>\n",
       "      <td>7343:1</td>\n",
       "      <td>874:1</td>\n",
       "      <td>147:1</td>\n",
       "      <td>2006:1</td>\n",
       "      <td>06c0312fcb3a1445daeb4efd64952503:1</td>\n",
       "    </tr>\n",
       "  </tbody>\n",
       "</table>\n",
       "</div>"
      ],
      "text/plain": [
       "             uuid  num_visits platform-freq        geo_location-freq  \\\n",
       "0  100001174c8854           3           1:3              US>CA>803:3   \n",
       "1  1000018be5d703           1           2:1              US>FL>528:1   \n",
       "2  10000380c5ae26           3           2:3  US>CA>803:2|US>CA>825:1   \n",
       "3  10000489b154a3           1           1:1              US>MI>563:1   \n",
       "4  100007fce4ea8f           1           1:1              US>MA>506:1   \n",
       "\n",
       "  traffic_source-freq      source_id-freq publisher_id-freq  \\\n",
       "0                 1:3  5315:1|574:1|694:1     1046:1|1161:2   \n",
       "1                 1:1               663:1              61:1   \n",
       "2                 1:3  1893:1|465:1|752:1        160:2|43:1   \n",
       "3                 1:1              7344:1             874:1   \n",
       "4                 1:1              7343:1             874:1   \n",
       "\n",
       "     topic_topI-freq       categ_topI-freq  \\\n",
       "0  147:1|183:1|265:1  1408:1|1902:1|1909:1   \n",
       "1              216:1                1702:1   \n",
       "2    184:1|51:1|77:1  1702:1|1902:1|1908:1   \n",
       "3               45:1                1903:1   \n",
       "4              147:1                2006:1   \n",
       "\n",
       "                                    entity_topI-freq  \n",
       "0  -99:1|3e2329d0532b88665cdd7c9625786738:1|543a1...  \n",
       "1                 9ebd449f947b6a9358f11aa77f3ce0d2:1  \n",
       "2  -99:1|9e6e6bfa404b26cfb3012bd457fbdb68:1|f53e4...  \n",
       "3                                              -99:1  \n",
       "4                 06c0312fcb3a1445daeb4efd64952503:1  "
      ]
     },
     "execution_count": 20,
     "metadata": {},
     "output_type": "execute_result"
    },
    {
     "name": "stdout",
     "output_type": "stream",
     "text": [
      "\n"
     ]
    }
   ],
   "source": [
    "uu_hash = 0\n",
    "pageview_uusum = pd.read_csv('../data/pages_view_feature/page_views_uusum_uid' + str(uu_hash) + '.csv.gz', header = 0)\n",
    "pageview_uusum.head()\n"
   ]
  },
  {
   "cell_type": "code",
   "execution_count": 21,
   "metadata": {
    "collapsed": false
   },
   "outputs": [
    {
     "name": "stdout",
     "output_type": "stream",
     "text": [
      "check missing 0\n",
      "(7169524, 10)\n"
     ]
    }
   ],
   "source": [
    "print \"check missing\", pageview_uusum.isnull().any().sum()\n",
    "print pageview_uusum.shape"
   ]
  },
  {
   "cell_type": "code",
   "execution_count": 16,
   "metadata": {
    "collapsed": false
   },
   "outputs": [
    {
     "name": "stdout",
     "output_type": "stream",
     "text": [
      "join on uu hash 0\n",
      "check missing uuid                   False\n",
      "uuid_hash_code         False\n",
      "num_visits             False\n",
      "platform-freq          False\n",
      "geo_location-freq      False\n",
      "traffic_source-freq    False\n",
      "source_id-freq         False\n",
      "publisher_id-freq      False\n",
      "topic_topI-freq        False\n",
      "categ_topI-freq        False\n",
      "entity_topI-freq       False\n",
      "dtype: bool\n",
      "It took 33 seconds to process uu hash 0\n"
     ]
    }
   ],
   "source": [
    "#### Join and append ####\n",
    "events_uusum_feature = None\n",
    "uu_hash_used = [0] # 0,1,...,99\n",
    "for uu_hash in uu_hash_used:\n",
    "    start_time = time.time() \n",
    "    print('join on uu hash %i' %(uu_hash))\n",
    "    # Read pageview-uusum-feature \n",
    "    pageview_uusum = pd.read_csv('../data/pages_view_feature/page_views_uusum_uid' + str(uu_hash) + '.csv.gz', header = 0)\n",
    "    # Select partition in events_uu\n",
    "    events_uu_part = events_uu.loc[events_uu.uuid_hash_code == uu_hash, :]\n",
    "    # Join on uuid\n",
    "    events_uu_part = events_uu_part.merge(pageview_uusum, how = 'left', on = 'uuid', suffixes = ['','_right'])\n",
    "    # Check for missing\n",
    "    print \"check missing\", events_uu_part.isnull().any().sum()\n",
    "    # concatenate\n",
    "    if events_uusum_feature is None:\n",
    "        events_uusum_feature = events_uu_part\n",
    "    else:\n",
    "        events_uusum_feature = pd.concat([events_uusum_feature,events_uu_part], axis=0)\n",
    "    \n",
    "    # Clear memory\n",
    "    del pageview_uusum, events_uu_part\n",
    "    gc.collect()\n",
    "    print('It took %i seconds to process uu hash %i' % (time.time()-start_time, uu_hash) )"
   ]
  },
  {
   "cell_type": "code",
   "execution_count": 18,
   "metadata": {
    "collapsed": false
   },
   "outputs": [
    {
     "name": "stdout",
     "output_type": "stream",
     "text": [
      "(197747, 11)\n"
     ]
    },
    {
     "data": {
      "text/html": [
       "<div>\n",
       "<table border=\"1\" class=\"dataframe\">\n",
       "  <thead>\n",
       "    <tr style=\"text-align: right;\">\n",
       "      <th></th>\n",
       "      <th>uuid</th>\n",
       "      <th>uuid_hash_code</th>\n",
       "      <th>num_visits</th>\n",
       "      <th>platform-freq</th>\n",
       "      <th>geo_location-freq</th>\n",
       "      <th>traffic_source-freq</th>\n",
       "      <th>source_id-freq</th>\n",
       "      <th>publisher_id-freq</th>\n",
       "      <th>topic_topI-freq</th>\n",
       "      <th>categ_topI-freq</th>\n",
       "      <th>entity_topI-freq</th>\n",
       "    </tr>\n",
       "  </thead>\n",
       "  <tbody>\n",
       "    <tr>\n",
       "      <th>0</th>\n",
       "      <td>c419799a427c72</td>\n",
       "      <td>0</td>\n",
       "      <td>3</td>\n",
       "      <td>3:3</td>\n",
       "      <td>US&gt;HI&gt;744:3</td>\n",
       "      <td>1:3</td>\n",
       "      <td>1014:1|2734:2</td>\n",
       "      <td>38:1|863:2</td>\n",
       "      <td>128:1|26:1|297:1</td>\n",
       "      <td>2100:3</td>\n",
       "      <td>6837babadc7ee40652ecdb5399e6a207:1|d43ef0ce148...</td>\n",
       "    </tr>\n",
       "    <tr>\n",
       "      <th>1</th>\n",
       "      <td>f8198611130910</td>\n",
       "      <td>0</td>\n",
       "      <td>74</td>\n",
       "      <td>1:74</td>\n",
       "      <td>US&gt;MD&gt;512:74</td>\n",
       "      <td>1:68|2:3|3:3</td>\n",
       "      <td>10198:1|1059:1|148:1|1803:1|1886:1|2686:1|2799...</td>\n",
       "      <td>1046:1|1084:1|1175:1|1221:50|158:1|160:2|180:3...</td>\n",
       "      <td>-99:17|10:1|111:1|125:2|140:5|147:1|15:1|160:1...</td>\n",
       "      <td>-99:9|1403:3|1405:1|1406:1|1407:1|1408:1|1607:...</td>\n",
       "      <td>-99:45|034008df3f5e6cff40da618ee25fef76:1|22af...</td>\n",
       "    </tr>\n",
       "    <tr>\n",
       "      <th>2</th>\n",
       "      <td>3abf1630ff91c5</td>\n",
       "      <td>0</td>\n",
       "      <td>8</td>\n",
       "      <td>1:8</td>\n",
       "      <td>CA&gt;BC:8</td>\n",
       "      <td>1:4|2:1|3:3</td>\n",
       "      <td>13858:1|2591:1|5792:1|7734:1|7736:1|822:1|9135...</td>\n",
       "      <td>1042:1|1064:1|202:1|253:1|450:2|704:2</td>\n",
       "      <td>130:1|16:1|170:1|181:1|20:1|49:1|65:1|8:1</td>\n",
       "      <td>1408:1|1510:1|1515:1|1609:1|1610:1|1611:1|1709...</td>\n",
       "      <td>-99:2|3d6c006d132611e4ee097cb5814a42b4:1|7d0cd...</td>\n",
       "    </tr>\n",
       "    <tr>\n",
       "      <th>3</th>\n",
       "      <td>a829cd392e8574</td>\n",
       "      <td>0</td>\n",
       "      <td>3</td>\n",
       "      <td>2:3</td>\n",
       "      <td>US&gt;CA&gt;807:3</td>\n",
       "      <td>1:3</td>\n",
       "      <td>1809:3</td>\n",
       "      <td>158:3</td>\n",
       "      <td>66:3</td>\n",
       "      <td>1611:3</td>\n",
       "      <td>504e40cfc426912d179d7e436c4f945b:3</td>\n",
       "    </tr>\n",
       "    <tr>\n",
       "      <th>4</th>\n",
       "      <td>5ab105d8e0defb</td>\n",
       "      <td>0</td>\n",
       "      <td>1</td>\n",
       "      <td>1:1</td>\n",
       "      <td>AE&gt;03:1</td>\n",
       "      <td>1:1</td>\n",
       "      <td>8803:1</td>\n",
       "      <td>1157:1</td>\n",
       "      <td>26:1</td>\n",
       "      <td>1403:1</td>\n",
       "      <td>-99:1</td>\n",
       "    </tr>\n",
       "  </tbody>\n",
       "</table>\n",
       "</div>"
      ],
      "text/plain": [
       "             uuid  uuid_hash_code  num_visits platform-freq geo_location-freq  \\\n",
       "0  c419799a427c72               0           3           3:3       US>HI>744:3   \n",
       "1  f8198611130910               0          74          1:74      US>MD>512:74   \n",
       "2  3abf1630ff91c5               0           8           1:8           CA>BC:8   \n",
       "3  a829cd392e8574               0           3           2:3       US>CA>807:3   \n",
       "4  5ab105d8e0defb               0           1           1:1           AE>03:1   \n",
       "\n",
       "  traffic_source-freq                                     source_id-freq  \\\n",
       "0                 1:3                                      1014:1|2734:2   \n",
       "1        1:68|2:3|3:3  10198:1|1059:1|148:1|1803:1|1886:1|2686:1|2799...   \n",
       "2         1:4|2:1|3:3  13858:1|2591:1|5792:1|7734:1|7736:1|822:1|9135...   \n",
       "3                 1:3                                             1809:3   \n",
       "4                 1:1                                             8803:1   \n",
       "\n",
       "                                   publisher_id-freq  \\\n",
       "0                                         38:1|863:2   \n",
       "1  1046:1|1084:1|1175:1|1221:50|158:1|160:2|180:3...   \n",
       "2              1042:1|1064:1|202:1|253:1|450:2|704:2   \n",
       "3                                              158:3   \n",
       "4                                             1157:1   \n",
       "\n",
       "                                     topic_topI-freq  \\\n",
       "0                                   128:1|26:1|297:1   \n",
       "1  -99:17|10:1|111:1|125:2|140:5|147:1|15:1|160:1...   \n",
       "2          130:1|16:1|170:1|181:1|20:1|49:1|65:1|8:1   \n",
       "3                                               66:3   \n",
       "4                                               26:1   \n",
       "\n",
       "                                     categ_topI-freq  \\\n",
       "0                                             2100:3   \n",
       "1  -99:9|1403:3|1405:1|1406:1|1407:1|1408:1|1607:...   \n",
       "2  1408:1|1510:1|1515:1|1609:1|1610:1|1611:1|1709...   \n",
       "3                                             1611:3   \n",
       "4                                             1403:1   \n",
       "\n",
       "                                    entity_topI-freq  \n",
       "0  6837babadc7ee40652ecdb5399e6a207:1|d43ef0ce148...  \n",
       "1  -99:45|034008df3f5e6cff40da618ee25fef76:1|22af...  \n",
       "2  -99:2|3d6c006d132611e4ee097cb5814a42b4:1|7d0cd...  \n",
       "3                 504e40cfc426912d179d7e436c4f945b:3  \n",
       "4                                              -99:1  "
      ]
     },
     "execution_count": 18,
     "metadata": {},
     "output_type": "execute_result"
    }
   ],
   "source": [
    "print events_uusum_feature.shape\n",
    "events_uusum_feature.head()"
   ]
  },
  {
   "cell_type": "code",
   "execution_count": null,
   "metadata": {
    "collapsed": true
   },
   "outputs": [],
   "source": []
  }
 ],
 "metadata": {
  "kernelspec": {
   "display_name": "Python 2",
   "language": "python",
   "name": "python2"
  },
  "language_info": {
   "codemirror_mode": {
    "name": "ipython",
    "version": 2
   },
   "file_extension": ".py",
   "mimetype": "text/x-python",
   "name": "python",
   "nbconvert_exporter": "python",
   "pygments_lexer": "ipython2",
   "version": "2.7.12"
  }
 },
 "nbformat": 4,
 "nbformat_minor": 0
}
