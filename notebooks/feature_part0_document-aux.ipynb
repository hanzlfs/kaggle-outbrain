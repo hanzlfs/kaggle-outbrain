{
 "cells": [
  {
   "cell_type": "code",
   "execution_count": 2,
   "metadata": {
    "collapsed": true
   },
   "outputs": [],
   "source": [
    "import pandas as pd\n",
    "import numpy as np"
   ]
  },
  {
   "cell_type": "code",
   "execution_count": 5,
   "metadata": {
    "collapsed": false
   },
   "outputs": [],
   "source": [
    "events = pd.read_csv(\"../interm/doc_aux_train_doc_ids.csv.gz\", index_col= False)\n",
    "\n",
    "doc_events = events[[\"document_id\"]].drop_duplicates()"
   ]
  },
  {
   "cell_type": "code",
   "execution_count": 7,
   "metadata": {
    "collapsed": false
   },
   "outputs": [],
   "source": [
    "doc_entities = pd.read_csv(\"../data/documents_entities.csv.gz\", index_col=False)\n",
    "doc_topics = pd.read_csv(\"../data/documents_topics.csv.gz\", index_col=False)\n",
    "doc_categories = pd.read_csv(\"../data/documents_categories.csv.gz\", index_col=False)"
   ]
  },
  {
   "cell_type": "code",
   "execution_count": 8,
   "metadata": {
    "collapsed": false
   },
   "outputs": [],
   "source": [
    "doc_topics[\"topic_conf\"] = doc_topics[[\"topic_id\", \"confidence_level\"]].apply(tuple, axis=1)\n",
    "doc_entities[\"entity_conf\"] = doc_entities[[\"entity_id\", \"confidence_level\"]].apply(tuple, axis=1)\n",
    "doc_categories[\"categ_conf\"] = doc_categories[[\"category_id\", \"confidence_level\"]].apply(tuple, axis=1)"
   ]
  },
  {
   "cell_type": "code",
   "execution_count": 9,
   "metadata": {
    "collapsed": false
   },
   "outputs": [],
   "source": [
    "topics = doc_topics[[\"document_id\", \"topic_conf\"]].groupby([\"document_id\"])[\"topic_conf\"].apply(list).reset_index()\n",
    "\n",
    "entities = doc_entities[[\"document_id\", \"entity_conf\"]].groupby([\"document_id\"])[\"entity_conf\"].apply(list).reset_index()\n",
    "\n",
    "categories = doc_categories[[\"document_id\", \"categ_conf\"]].groupby([\"document_id\"])[\"categ_conf\"].apply(list).reset_index()"
   ]
  },
  {
   "cell_type": "code",
   "execution_count": 10,
   "metadata": {
    "collapsed": true
   },
   "outputs": [],
   "source": [
    "def getTopOne(l):\n",
    "    if l == -99:\n",
    "        return -99\n",
    "    else:\n",
    "        l = sorted(l, key = lambda x :x[1], reverse=True)\n",
    "        return l[0][0]"
   ]
  },
  {
   "cell_type": "code",
   "execution_count": 11,
   "metadata": {
    "collapsed": true
   },
   "outputs": [],
   "source": [
    "def merge_select_topI(doc, aux_data, content,onKey = 'document_id'):\n",
    "    doc_aux = doc.merge(aux_data, how = 'left', on = onKey)\n",
    "    doc_aux.fillna(-99, inplace= True)\n",
    "    doc_aux[content+ \"_topI\"] = doc_aux[content + \"_conf\"].apply(getTopOne)\n",
    "    return doc_aux"
   ]
  },
  {
   "cell_type": "code",
   "execution_count": 12,
   "metadata": {
    "collapsed": false
   },
   "outputs": [],
   "source": [
    "selected_doc_topics = doc_events.merge(topics,how = 'left', on = 'document_id')"
   ]
  },
  {
   "cell_type": "code",
   "execution_count": 13,
   "metadata": {
    "collapsed": false
   },
   "outputs": [
    {
     "data": {
      "text/html": [
       "<div>\n",
       "<table border=\"1\" class=\"dataframe\">\n",
       "  <thead>\n",
       "    <tr style=\"text-align: right;\">\n",
       "      <th></th>\n",
       "      <th>document_id</th>\n",
       "      <th>topic_conf</th>\n",
       "    </tr>\n",
       "  </thead>\n",
       "  <tbody>\n",
       "    <tr>\n",
       "      <th>0</th>\n",
       "      <td>379743</td>\n",
       "      <td>[(285.0, 0.0202538297549), (226.0, 0.019394842...</td>\n",
       "    </tr>\n",
       "    <tr>\n",
       "      <th>1</th>\n",
       "      <td>1794259</td>\n",
       "      <td>[(66.0, 0.0315848601509), (164.0, 0.0095238104...</td>\n",
       "    </tr>\n",
       "    <tr>\n",
       "      <th>2</th>\n",
       "      <td>1179111</td>\n",
       "      <td>-99</td>\n",
       "    </tr>\n",
       "    <tr>\n",
       "      <th>3</th>\n",
       "      <td>1777797</td>\n",
       "      <td>[(16.0, 0.0492014078746), (89.0, 0.03033053201...</td>\n",
       "    </tr>\n",
       "    <tr>\n",
       "      <th>4</th>\n",
       "      <td>252458</td>\n",
       "      <td>[(153.0, 0.100685146299), (265.0, 0.0661570192...</td>\n",
       "    </tr>\n",
       "  </tbody>\n",
       "</table>\n",
       "</div>"
      ],
      "text/plain": [
       "   document_id                                         topic_conf\n",
       "0       379743  [(285.0, 0.0202538297549), (226.0, 0.019394842...\n",
       "1      1794259  [(66.0, 0.0315848601509), (164.0, 0.0095238104...\n",
       "2      1179111                                                -99\n",
       "3      1777797  [(16.0, 0.0492014078746), (89.0, 0.03033053201...\n",
       "4       252458  [(153.0, 0.100685146299), (265.0, 0.0661570192..."
      ]
     },
     "execution_count": 13,
     "metadata": {},
     "output_type": "execute_result"
    }
   ],
   "source": [
    "selected_doc_topics.fillna(-99,inplace= True)\n",
    "selected_doc_topics.head()"
   ]
  },
  {
   "cell_type": "code",
   "execution_count": 14,
   "metadata": {
    "collapsed": false
   },
   "outputs": [
    {
     "data": {
      "text/plain": [
       "301"
      ]
     },
     "execution_count": 14,
     "metadata": {},
     "output_type": "execute_result"
    }
   ],
   "source": [
    "selected_doc_topics[\"topic_topI\"] = selected_doc_topics[\"topic_conf\"].apply(getTopOne)\n",
    "\n",
    "len(selected_doc_topics[\"topic_topI\"].unique())"
   ]
  },
  {
   "cell_type": "code",
   "execution_count": 16,
   "metadata": {
    "collapsed": true
   },
   "outputs": [],
   "source": [
    "selected_doc_categ = merge_select_topI(selected_doc_topics, categories, content = \"categ\")\n",
    "\n",
    "selected_doc_entity = merge_select_topI(selected_doc_categ, entities, content = \"entity\")"
   ]
  },
  {
   "cell_type": "code",
   "execution_count": 19,
   "metadata": {
    "collapsed": false
   },
   "outputs": [],
   "source": [
    "selected_doc_entity.to_csv(\"../interm/doc_topic_categ_entity_groupby_confidence_level_train.csv.gz\",\n",
    "                           index=False, compression=\"gzip\")\n",
    "\n",
    "selected_doc_entity[[\"document_id\", \"topic_topI\", \"entity_topI\", \"categ_topI\"]]\\\n",
    "                    .to_csv(\"../interm/doc_aux_topI_topic_entity_categ_train.csv.gz\", \n",
    "                            index=False, compression=\"gzip\")"
   ]
  },
  {
   "cell_type": "code",
   "execution_count": 18,
   "metadata": {
    "collapsed": false
   },
   "outputs": [
    {
     "data": {
      "text/html": [
       "<div>\n",
       "<table border=\"1\" class=\"dataframe\">\n",
       "  <thead>\n",
       "    <tr style=\"text-align: right;\">\n",
       "      <th></th>\n",
       "      <th>document_id</th>\n",
       "      <th>topic_conf</th>\n",
       "      <th>topic_topI</th>\n",
       "      <th>categ_conf</th>\n",
       "      <th>categ_topI</th>\n",
       "      <th>entity_conf</th>\n",
       "      <th>entity_topI</th>\n",
       "    </tr>\n",
       "  </thead>\n",
       "  <tbody>\n",
       "    <tr>\n",
       "      <th>0</th>\n",
       "      <td>379743</td>\n",
       "      <td>[(285.0, 0.0202538297549), (226.0, 0.019394842...</td>\n",
       "      <td>285.0</td>\n",
       "      <td>[(1203.0, 0.345951832), (1702.0, 0.026322422)]</td>\n",
       "      <td>1203.0</td>\n",
       "      <td>-99</td>\n",
       "      <td>-99</td>\n",
       "    </tr>\n",
       "    <tr>\n",
       "      <th>1</th>\n",
       "      <td>1794259</td>\n",
       "      <td>[(66.0, 0.0315848601509), (164.0, 0.0095238104...</td>\n",
       "      <td>66.0</td>\n",
       "      <td>[(1403.0, 0.353799984), (1702.0, 0.026919564)]</td>\n",
       "      <td>1403.0</td>\n",
       "      <td>[(0db30daa7d11fbe9245e1bae8c4ef851, 0.69676003...</td>\n",
       "      <td>0db30daa7d11fbe9245e1bae8c4ef851</td>\n",
       "    </tr>\n",
       "    <tr>\n",
       "      <th>2</th>\n",
       "      <td>1179111</td>\n",
       "      <td>-99</td>\n",
       "      <td>-99.0</td>\n",
       "      <td>-99</td>\n",
       "      <td>-99.0</td>\n",
       "      <td>-99</td>\n",
       "      <td>-99</td>\n",
       "    </tr>\n",
       "    <tr>\n",
       "      <th>3</th>\n",
       "      <td>1777797</td>\n",
       "      <td>[(16.0, 0.0492014078746), (89.0, 0.03033053201...</td>\n",
       "      <td>16.0</td>\n",
       "      <td>[(1609.0, 0.494161164), (1403.0, 0.037599219)]</td>\n",
       "      <td>1609.0</td>\n",
       "      <td>-99</td>\n",
       "      <td>-99</td>\n",
       "    </tr>\n",
       "    <tr>\n",
       "      <th>4</th>\n",
       "      <td>252458</td>\n",
       "      <td>[(153.0, 0.100685146299), (265.0, 0.0661570192...</td>\n",
       "      <td>153.0</td>\n",
       "      <td>[(1403.0, 0.92), (1404.0, 0.07)]</td>\n",
       "      <td>1403.0</td>\n",
       "      <td>[(97556fc7b4e378578a62e077b7eb1099, 0.95271146...</td>\n",
       "      <td>97556fc7b4e378578a62e077b7eb1099</td>\n",
       "    </tr>\n",
       "  </tbody>\n",
       "</table>\n",
       "</div>"
      ],
      "text/plain": [
       "   document_id                                         topic_conf  topic_topI  \\\n",
       "0       379743  [(285.0, 0.0202538297549), (226.0, 0.019394842...       285.0   \n",
       "1      1794259  [(66.0, 0.0315848601509), (164.0, 0.0095238104...        66.0   \n",
       "2      1179111                                                -99       -99.0   \n",
       "3      1777797  [(16.0, 0.0492014078746), (89.0, 0.03033053201...        16.0   \n",
       "4       252458  [(153.0, 0.100685146299), (265.0, 0.0661570192...       153.0   \n",
       "\n",
       "                                       categ_conf  categ_topI  \\\n",
       "0  [(1203.0, 0.345951832), (1702.0, 0.026322422)]      1203.0   \n",
       "1  [(1403.0, 0.353799984), (1702.0, 0.026919564)]      1403.0   \n",
       "2                                             -99       -99.0   \n",
       "3  [(1609.0, 0.494161164), (1403.0, 0.037599219)]      1609.0   \n",
       "4                [(1403.0, 0.92), (1404.0, 0.07)]      1403.0   \n",
       "\n",
       "                                         entity_conf  \\\n",
       "0                                                -99   \n",
       "1  [(0db30daa7d11fbe9245e1bae8c4ef851, 0.69676003...   \n",
       "2                                                -99   \n",
       "3                                                -99   \n",
       "4  [(97556fc7b4e378578a62e077b7eb1099, 0.95271146...   \n",
       "\n",
       "                        entity_topI  \n",
       "0                               -99  \n",
       "1  0db30daa7d11fbe9245e1bae8c4ef851  \n",
       "2                               -99  \n",
       "3                               -99  \n",
       "4  97556fc7b4e378578a62e077b7eb1099  "
      ]
     },
     "execution_count": 18,
     "metadata": {},
     "output_type": "execute_result"
    }
   ],
   "source": [
    "selected_doc_entity.head()"
   ]
  },
  {
   "cell_type": "code",
   "execution_count": 135,
   "metadata": {
    "collapsed": false
   },
   "outputs": [
    {
     "data": {
      "text/plain": [
       "91"
      ]
     },
     "execution_count": 135,
     "metadata": {},
     "output_type": "execute_result"
    }
   ],
   "source": [
    "len(selected_doc_entity[\"categ_topI\"].unique())"
   ]
  }
 ],
 "metadata": {
  "kernelspec": {
   "display_name": "Python 2",
   "language": "python",
   "name": "python2"
  },
  "language_info": {
   "codemirror_mode": {
    "name": "ipython",
    "version": 2
   },
   "file_extension": ".py",
   "mimetype": "text/x-python",
   "name": "python",
   "nbconvert_exporter": "python",
   "pygments_lexer": "ipython2",
   "version": "2.7.12"
  }
 },
 "nbformat": 4,
 "nbformat_minor": 0
}
