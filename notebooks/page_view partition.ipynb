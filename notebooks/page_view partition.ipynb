{
 "cells": [
  {
   "cell_type": "code",
   "execution_count": 1,
   "metadata": {
    "collapsed": true
   },
   "outputs": [],
   "source": [
    "import pandas as pd\n",
    "import numpy as np\n",
    "\n",
    "import csv\n",
    "import gzip\n",
    "import io\n",
    "\n",
    "hash_length = 6\n",
    "\n",
    "def get_hash_code(x):\n",
    "    y = abs(hash(x)%hash_length)\n",
    "    return int(y)"
   ]
  },
  {
   "cell_type": "code",
   "execution_count": 2,
   "metadata": {
    "collapsed": true
   },
   "outputs": [],
   "source": [
    "nrows = 10000000\n",
    "f = open(\"../input/page_views_sample.csv\",\"r\")\n",
    "line = f.readline().strip()\n",
    "head_arr = line.split(\",\")\n",
    "fld_index = dict(zip(head_arr,range(0,len(head_arr))))\n",
    "total = 0"
   ]
  },
  {
   "cell_type": "code",
   "execution_count": 4,
   "metadata": {
    "collapsed": false
   },
   "outputs": [],
   "source": [
    "import gzip, csv\n",
    "\n",
    "with gzip.open(\"test0.csv.gz\", \"wt\") as output0, gzip.open(\"test1.csv.gz\", \"wt\") as output1, gzip.open(\"test2.csv.gz\", \"wt\") as output2, gzip.open(\"test3.csv.gz\", \"wt\") as output3, gzip.open(\"test4.csv.gz\", \"wt\") as output4, gzip.open(\"test5.csv.gz\", \"wt\") as output5:\n",
    "    writer_uid0 = csv.writer(output0)\n",
    "    writer_uid1 = csv.writer(output1)\n",
    "    writer_uid2 = csv.writer(output2)\n",
    "    writer_uid3 = csv.writer(output3)\n",
    "    writer_uid4 = csv.writer(output4)\n",
    "    writer_uid5 = csv.writer(output5)\n",
    "    \n",
    "    writer_uid0.writerow(head_arr)\n",
    "    writer_uid1.writerow(head_arr)\n",
    "    writer_uid2.writerow(head_arr)\n",
    "    writer_uid3.writerow(head_arr)\n",
    "    writer_uid4.writerow(head_arr)\n",
    "    writer_uid5.writerow(head_arr)\n",
    "    \n",
    "    while 1:\n",
    "        line = f.readline().strip()\n",
    "        if nrows is not None and total == nrows:\n",
    "            break\n",
    "        if line == '':\n",
    "            break\n",
    "        arr = line.split(\",\")\n",
    "        usr_id = arr[fld_index['uuid']]\n",
    "        if get_hash_code(usr_id) == 0:\n",
    "            writer_uid0.writerow(arr)\n",
    "        elif get_hash_code(usr_id) == 1:\n",
    "            writer_uid1.writerow(arr)\n",
    "        elif get_hash_code(usr_id) == 2:\n",
    "            writer_uid2.writerow(arr)\n",
    "        elif get_hash_code(usr_id) == 3:\n",
    "            writer_uid3.writerow(arr)\n",
    "        elif get_hash_code(usr_id) == 4:\n",
    "            writer_uid4.writerow(arr)\n",
    "        else :\n",
    "            writer_uid5.writerow(arr)"
   ]
  },
  {
   "cell_type": "code",
   "execution_count": 8,
   "metadata": {
    "collapsed": false
   },
   "outputs": [
    {
     "data": {
      "text/html": [
       "<div>\n",
       "<table border=\"1\" class=\"dataframe\">\n",
       "  <thead>\n",
       "    <tr style=\"text-align: right;\">\n",
       "      <th></th>\n",
       "      <th>uuid</th>\n",
       "      <th>document_id</th>\n",
       "      <th>timestamp</th>\n",
       "      <th>platform</th>\n",
       "      <th>geo_location</th>\n",
       "      <th>traffic_source</th>\n",
       "    </tr>\n",
       "  </thead>\n",
       "  <tbody>\n",
       "    <tr>\n",
       "      <th>0</th>\n",
       "      <td>8205775c5387f9</td>\n",
       "      <td>120</td>\n",
       "      <td>44196592</td>\n",
       "      <td>1</td>\n",
       "      <td>IN&gt;16</td>\n",
       "      <td>2</td>\n",
       "    </tr>\n",
       "    <tr>\n",
       "      <th>1</th>\n",
       "      <td>6c802978b8dd4d</td>\n",
       "      <td>120</td>\n",
       "      <td>66590306</td>\n",
       "      <td>1</td>\n",
       "      <td>CA&gt;ON</td>\n",
       "      <td>2</td>\n",
       "    </tr>\n",
       "    <tr>\n",
       "      <th>2</th>\n",
       "      <td>9ee2877617838a</td>\n",
       "      <td>984</td>\n",
       "      <td>86093121</td>\n",
       "      <td>3</td>\n",
       "      <td>US&gt;MN&gt;613</td>\n",
       "      <td>2</td>\n",
       "    </tr>\n",
       "    <tr>\n",
       "      <th>3</th>\n",
       "      <td>39cb940573224b</td>\n",
       "      <td>984</td>\n",
       "      <td>79313838</td>\n",
       "      <td>2</td>\n",
       "      <td>SA</td>\n",
       "      <td>3</td>\n",
       "    </tr>\n",
       "    <tr>\n",
       "      <th>4</th>\n",
       "      <td>a07557a2f6fc59</td>\n",
       "      <td>984</td>\n",
       "      <td>36121278</td>\n",
       "      <td>2</td>\n",
       "      <td>SA&gt;10</td>\n",
       "      <td>3</td>\n",
       "    </tr>\n",
       "  </tbody>\n",
       "</table>\n",
       "</div>"
      ],
      "text/plain": [
       "             uuid  document_id  timestamp  platform geo_location  \\\n",
       "0  8205775c5387f9          120   44196592         1        IN>16   \n",
       "1  6c802978b8dd4d          120   66590306         1        CA>ON   \n",
       "2  9ee2877617838a          984   86093121         3    US>MN>613   \n",
       "3  39cb940573224b          984   79313838         2           SA   \n",
       "4  a07557a2f6fc59          984   36121278         2        SA>10   \n",
       "\n",
       "   traffic_source  \n",
       "0               2  \n",
       "1               2  \n",
       "2               2  \n",
       "3               3  \n",
       "4               3  "
      ]
     },
     "execution_count": 8,
     "metadata": {},
     "output_type": "execute_result"
    }
   ],
   "source": [
    "pd.read_csv(\"test3.csv.gz\", index_col=False).head()"
   ]
  },
  {
   "cell_type": "code",
   "execution_count": null,
   "metadata": {
    "collapsed": true
   },
   "outputs": [],
   "source": []
  }
 ],
 "metadata": {
  "kernelspec": {
   "display_name": "Python 2",
   "language": "python",
   "name": "python2"
  },
  "language_info": {
   "codemirror_mode": {
    "name": "ipython",
    "version": 2
   },
   "file_extension": ".py",
   "mimetype": "text/x-python",
   "name": "python",
   "nbconvert_exporter": "python",
   "pygments_lexer": "ipython2",
   "version": "2.7.12"
  }
 },
 "nbformat": 4,
 "nbformat_minor": 0
}
